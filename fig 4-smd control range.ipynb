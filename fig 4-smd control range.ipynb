{
 "cells": [
  {
   "attachments": {},
   "cell_type": "markdown",
   "metadata": {},
   "source": [
    "# Figure 4: Control Range\n",
    "In this Notebook, we shall create a plot showing how control performed through a Spike Coding Network (SCN) is affected by sensor noise and an input pulse. The plot shows two Spring-Mass-Damper (SMD) systems, of which one is controlled through an SCN estimator and controller, and the other through an idealized LQG controller. Both controllers are affected by the same disturbances. The work in this notebook is carried out for \"Closed-form control with spike coding networks\" by F.S. Slijkhuis, S.W. Keemink and P. Lanillos (https://doi.org/10.48550/arXiv.2212.12887)."
   ]
  },
  {
   "attachments": {},
   "cell_type": "markdown",
   "metadata": {},
   "source": [
    "## Imports\n",
    "Nothing too special here, we shall use Numpy for matrices and Matplotlib for plotting. The Python-files initialization.py and simulation.py contain helper functions which will prevent clutter in this notebook. Please refer to the files themselves to learn more about the functions within them. Joblib is used for parallelization of code. Tqdm is used for progress bars. Numba is used for code optimization, making it faster."
   ]
  },
  {
   "cell_type": "code",
   "execution_count": 1,
   "metadata": {},
   "outputs": [],
   "source": [
    "import numpy as np #Numpy for matrix calculations\n",
    "import matplotlib.pyplot as plt #Matplotlib for plotting\n",
    "import initialization, simulation #Helper functions for initialization and simulation are located in these two Python files. Please see the files themselves for more details.\n",
    "\n",
    "from tqdm.notebook import trange,tqdm #Progress bars\n",
    "from joblib import Parallel, delayed #Parallelization of code\n",
    "import numba as nb #Numba for code optimization"
   ]
  },
  {
   "attachments": {},
   "cell_type": "markdown",
   "metadata": {},
   "source": [
    "## Initialization\n",
    "For initialization, we shall define parameters relevant to the simulations in this notebook. As mentioned earlier, we are simulating two SMD systems: one controlled using an SCN controller and the other through an idealized LQG. Both the controllers and SMD systems will be simulated using Forward Euler. But first, we must define the relevant parameters.\n",
    "\n",
    "Because we are running multiple simulations with different parameters, we will put the initialization inside a function, so that we can call it with different parameters."
   ]
  },
  {
   "cell_type": "code",
   "execution_count": 2,
   "metadata": {},
   "outputs": [],
   "source": [
    "def init_controlrange(sensornoise):\n",
    "    #Forward Euler parameters\n",
    "    time = 5 #Total simulation time in seconds\n",
    "    dt = 0.0001 #Length of a single timestep\n",
    "\n",
    "    #Spring-Mass-Damper System(s) parameters\n",
    "    m = 3 #Mass (in kg)\n",
    "    k = 5 #Spring constant (in N/m)\n",
    "    c = 0.5 #Constant of proportionality (dampening, in Ns/m = kg/s)\n",
    "    x0 = np.array([0, 0]) #Initial state of the SMD system.\n",
    "\n",
    "    #Other system parameters\n",
    "    C = np.array([[1,0],\n",
    "                [0,0]]) #Initialization of the C matrix (because y=Cx+noise)\n",
    "    Vn_cov = sensornoise #Sensor noise covariance (y=Cx+noise)\n",
    "    Vd_cov = 0.001 #Disturbance noise covariance (noise on the SMD)\n",
    "\n",
    "    #SCN Controller parameters\n",
    "    network_size = 50 #The number of neurons in the SCN\n",
    "    signal_dimensions = 4 #The dimensions of the signal, which is 4 here because the target state is also encoded into the network\n",
    "    lam = 0.1 #The leakage constant of the network, lambda\n",
    "    Vv_sigma = 0.000001 #Voltage noise sigma; noise on the voltage\n",
    "\n",
    "    #Control parameters\n",
    "    Q = np.array([[10,0],\n",
    "                [0,1]]) #The Q-matrix, cost of deviations from the state\n",
    "    R = 0.001 #Cost of actuation\n",
    "    \n",
    "    #Forward Euler simulation\n",
    "    times,Nt = initialization.FE_init(time,dt) #times is a list of timesteps which we will loop over, Nt is the total number of timesteps (length of times)\n",
    "\n",
    "    #SMD System A and B matrices\n",
    "    A,B = initialization.SMD_init(m,k,c) #A and B are the system matrix and input matrix in state-space representation (according to Ax+Bu)\n",
    "\n",
    "    #Initialization of the Kalman filter gain matrix to be used inside of the SCN estimator and idealized Kalman filter\n",
    "    Kf = initialization.Kalman_init(A,C,Vn_cov,Vd_cov) #From the A and C matrices and noise covariances, we can calculate the Kalman filter gain matrix\n",
    "\n",
    "    #Initialization of the LQR gain matrix to be used inside of the SCN controller and idealized LQG\n",
    "    Kc = initialization.Control_init(A,B,Q,R)\n",
    "\n",
    "    #Initialization of the state-matrices, containing the states of the simulated SMD systems over time\n",
    "    X = initialization.X_init(x0,Nt) #Requires x0 as the first state of the simulated SMD system, and Nt for the matrix dimensions\n",
    "    X_2 = initialization.X_init(x0,Nt) #We run two SMD systems with different controllers, so we need two state matrices\n",
    "\n",
    "    #Initializaton of the SCN controller, given parameters, we calculate D, T, V, s, r and all of the connectivity\n",
    "    D,T,V,s,r,O_f,O_s,O_c,F_c,O_k,F_k = initialization.ControllerSCN_init(signal_dimensions,Nt,A,B,C,Kf,Kc,network_size,lam)\n",
    "\n",
    "\n",
    "    #Target state parameters\n",
    "    x0_des = np.full([Nt+1],0) # Desired x0, position.\n",
    "    x1_des = np.full([Nt+1],0) # Desired x1, velocity.\n",
    "\n",
    "    x_des = np.array([x0_des,x1_des]) #Desired states over time.\n",
    "\n",
    "\n",
    "    #Error matrices, will be updated during the simulation\n",
    "    error_ideal=np.zeros([len(x0),Nt+1]) #Error between idealzied LQG and SMD system\n",
    "    error_scn=np.zeros([len(x0),Nt+1]) #Error between SCN controller and SMD system\n",
    "\n",
    "    #Initialization of other matrices used in simulation, U, Y, X_hat (state matrix of SCN estimator), X_hat_fe (state matrix of idealized Kalman filter), uDIST and uNOISE (noise matrices)\n",
    "    U,Y,U_2,Y_2,X_hat,X_hat_fe,uDIST,uNOISE,Dx,error_scn,error_ideal = initialization.ControlLoop_init(X,X_2,error_scn,error_ideal,x_des,dt,A,B,C,x0,Nt,Vd_cov,Vn_cov)\n",
    "    \n",
    "    return Nt,X,X_2,A,B,U,U_2,uDIST,dt,Y,Y_2,C,uNOISE,r,s,V,D,T,lam,O_f,O_s,O_c,F_c,O_k,F_k,Vv_sigma,X_hat,X_hat_fe,Kf,Kc,x_des,error_scn,error_ideal,signal_dimensions,Dx"
   ]
  },
  {
   "attachments": {},
   "cell_type": "markdown",
   "metadata": {},
   "source": [
    "## Simulation\n",
    "Now that we have defined all of the parameters we need, we can define how to run the simulation with Numba. For Numba, we put everything in a single function."
   ]
  },
  {
   "cell_type": "code",
   "execution_count": 3,
   "metadata": {},
   "outputs": [],
   "source": [
    "@nb.jit(nopython=True)\n",
    "def run_simulation(Nt,X,A,B,U,uDIST,dt,X_2,U_2,error_scn,error_ideal,Y,C,uNOISE,Y_2,r,s,V,x_des,Dx,D,T,lam,Kc,O_f,O_s,O_c,F_c,O_k,F_k,voltage_noise_sigma,Kf,X_hat_fe,pulse_strength):\n",
    "    #Looping over the entire range of Nt, we have all the timesteps in our simulation\n",
    "    for t in range(Nt):\n",
    "            #First, simulate one step of both simulated SMD system, but if a pulse should occur, add it to the systems (when if-statement is true)\n",
    "            #Code for X, the first SMD system controlled by SCN controller\n",
    "            if t in range(int(Nt/2)-25,int(Nt/2)+25):\n",
    "                dxdt = A@X[:,t] + B@U[:,t] + pulse_strength + np.sqrt(dt)*uDIST[:,t]\n",
    "            else:\n",
    "                dxdt = A@X[:,t] + B@U[:,t] + np.sqrt(dt)*uDIST[:,t]\n",
    "            X[:,t+1] = X[:,t] + dxdt*dt\n",
    "            \n",
    "            #Code for X_2, the second SMD system controlled by idealized LQG\n",
    "            if t in range(int(Nt/2)-25,int(Nt/2)+25):\n",
    "                dxdt = A@X_2[:,t] + B@U_2[:,t] + pulse_strength + np.sqrt(dt)*uDIST[:,t]\n",
    "            else:\n",
    "                dxdt = A@X_2[:,t] + B@U_2[:,t] + np.sqrt(dt)*uDIST[:,t]\n",
    "            X_2[:,t+1] = X_2[:,t] + dxdt*dt\n",
    "            \n",
    "            #Update the error matrices\n",
    "            error_scn[:,t+1] = np.abs(X[:,t+1]-x_des[:,t+1])\n",
    "            error_ideal[:,t+1] = np.abs(X_2[:,t+1]-x_des[:,t+1])\n",
    "\n",
    "            #Our controllers only have access to Y, which is the partially observable state plus noise\n",
    "            Y[:,t+1] = C[0]*X[:,t+1] + uNOISE[:,t+1]\n",
    "            Y_2[:,t+1] = C[0]*X_2[:,t+1] + uNOISE[:,t+1]\n",
    "            \n",
    "            #Obtaining the U from the network\n",
    "            U[:,t+1] = -Kc @ (D[:-2] @ r[:,t] - D[2:] @ r[:,t])\n",
    "\n",
    "            #Calculating the voltages at time t+1\n",
    "            dvdt = -lam * V[:,t] - O_f @ s[:,t] + O_s @ r[:,t] + (O_c @ r[:,t] + F_c @ D[2:] @ r[:,t]) - (O_k @ r[:,t] + np.dot(F_k,C[0]*Y[:,t]))\n",
    "            dvdt = dvdt + (D[2:].T @ ((lam*x_des[:,t])+Dx[:,t])) - (D[2:].T @ D[2:] @ s[:,t])\n",
    "            V[:,t+1] = V[:,t] + dvdt*dt + np.sqrt(dt)*voltage_noise_sigma*np.random.randn(len(dvdt))\n",
    "\n",
    "            #Check if there are neurons whose voltage is above threshold\n",
    "            above = np.where(V[:,t+1] > T)[0]\n",
    "\n",
    "            #Introduce a control to let only one neuron fire at the time\n",
    "            s[:,t+1]=np.zeros(s[:,t].shape)\n",
    "            if len(above):\n",
    "                s[:,t+1][np.argmax(V[:,t+1])] = 1/dt\n",
    "\n",
    "            #Update firing rates\n",
    "            drdt = s[:,t+1] - lam*r[:,t]\n",
    "            r[:,t+1] = r[:,t] + drdt*dt\n",
    "            \n",
    "            #Run a step of the idealized controller which we compare the SCN to\n",
    "            dxdt = A@X_hat_fe[:,t] + B@U_2[:,t] + Kf@(Y_2[:,t]-(C[0]*X_hat_fe[:,t]))\n",
    "            X_hat_fe[:,t+1] = X_hat_fe[:,t] + dxdt*dt\n",
    "            \n",
    "            #U_2 is the control signal of the idealized controller\n",
    "            U_2[:,t+1] = -Kc@(X_hat_fe[:,t+1]-x_des[:,t])\n",
    "            \n",
    "    return X,X_2,error_scn,error_ideal,U,U_2,Y"
   ]
  },
  {
   "attachments": {},
   "cell_type": "markdown",
   "metadata": {},
   "source": [
    "Next, we define how to run a single simulation with parameters."
   ]
  },
  {
   "cell_type": "code",
   "execution_count": 4,
   "metadata": {},
   "outputs": [],
   "source": [
    "def single_sim(sensornoise,pulse_strength):\n",
    "    #Obtain parameters of simulation\n",
    "    Nt,X,X_2,A,B,U,U_2,uDIST,dt,Y,Y_2,C,uNOISE,r,s,V,D,T,lam,O_f,O_s,O_c,F_c,O_k,F_k,Vv_sigma,X_hat,X_hat_fe,Kf,Kc,x_des,error_scn,error_ideal,signal_dimensions,Dx = init_controlrange(sensornoise)\n",
    "\n",
    "    #Run simulation with parameters\n",
    "    X_SCN,X_ideal,error_scn,error_ideal,U,U_2,Y = run_simulation(Nt,X,A,B,U,uDIST,dt,X_2,U_2,error_scn,error_ideal,Y,C,uNOISE,Y_2,r,s,V,x_des,Dx,D,T,lam,Kc,O_f,O_s,O_c,F_c,O_k,F_k,Vv_sigma,Kf,X_hat_fe,pulse_strength)\n",
    "    \n",
    "    #Apply the pulse strength to the U-matrices (U and U_2), so that we can plot when the pulse happens\n",
    "    pulse_strength_list = np.zeros([B.shape[1],Nt+1])\n",
    "    pulse_strength_list[:,int(Nt/2)-25:int(Nt/2)+25]=pulse_strength\n",
    "    U_with_pulse=U+pulse_strength_list\n",
    "    U_2_with_pulse=U_2+pulse_strength_list\n",
    "    \n",
    "    #We return the averages of the errors, as well as some other stuff useful for debugging or for plotting\n",
    "    return np.average(error_scn,axis=1),np.average(error_ideal,axis=1),U,U_2,U_with_pulse,U_2_with_pulse,X_SCN,X_ideal,pulse_strength_list,x_des,Y"
   ]
  },
  {
   "attachments": {},
   "cell_type": "markdown",
   "metadata": {},
   "source": [
    "Last, we run the multiple simulations with our specified parameter range."
   ]
  },
  {
   "cell_type": "code",
   "execution_count": 5,
   "metadata": {},
   "outputs": [
    {
     "data": {
      "application/vnd.jupyter.widget-view+json": {
       "model_id": "85d88b46e2ad499593a8f8af19518768",
       "version_major": 2,
       "version_minor": 0
      },
      "text/plain": [
       "  0%|          | 0/5 [00:00<?, ?it/s]"
      ]
     },
     "metadata": {},
     "output_type": "display_data"
    }
   ],
   "source": [
    "#Grid search\n",
    "n_sensornoise = [1e-5,1e-4,1e-3,1e-2,1e-1] #List of sensor noises to compare\n",
    "n_pulse_strength = range(0,1000,100) #List of pulse_strengths to compare\n",
    "error_list = {}\n",
    "\n",
    "#Run the simulations in parallel using joblib\n",
    "for i,sensornoise in tqdm(enumerate(n_sensornoise),total=len(n_sensornoise)):\n",
    "    error_list[i] = Parallel(n_jobs=-1)(delayed(single_sim)(sensornoise, pulse_strength) for pulse_strength in n_pulse_strength)\n",
    "    \n",
    "#What we obtained was a list of all the values, but we have to obtain the relevant values again for the plots. These will be the error in the position for both the SCN controller and the idealized controller.\n",
    "scn_avg_pos_error=[]\n",
    "for i,sensor in enumerate(n_sensornoise):\n",
    "    x_scn_ax=[]\n",
    "    for j, pulse_strength in enumerate(n_pulse_strength):\n",
    "        x_scn_ax.append(error_list[i][j][0][0])\n",
    "    scn_avg_pos_error.append(x_scn_ax)\n",
    "    \n",
    "ideal_avg_pos_error=[]\n",
    "for i,sensor in enumerate(n_sensornoise):\n",
    "    x_ideal_ax=[]\n",
    "    for j, pulse_strength in enumerate(n_pulse_strength):\n",
    "        x_ideal_ax.append(error_list[i][j][1][0])\n",
    "    ideal_avg_pos_error.append(x_ideal_ax)"
   ]
  },
  {
   "attachments": {},
   "cell_type": "markdown",
   "metadata": {},
   "source": [
    "## Plotting\n",
    "Now that we have obtained our filled state matrices, we can plot everything. First, the colorbar plots."
   ]
  },
  {
   "cell_type": "code",
   "execution_count": 6,
   "metadata": {},
   "outputs": [
    {
     "data": {
      "image/png": "[encoded data removed]",
      "text/plain": [
       "<Figure size 432x576 with 3 Axes>"
      ]
     },
     "metadata": {
      "needs_background": "light"
     },
     "output_type": "display_data"
    }
   ],
   "source": [
    "fig, axs = plt.subplots(2,1, sharex= True, gridspec_kw = {'hspace':0.1,'height_ratios':[1.3,1]})\n",
    "fig.set_figheight(8)\n",
    "fig.set_figwidth(6)\n",
    "\n",
    "legend=[]\n",
    "axs[0].imshow(scn_avg_pos_error,vmax=1.65)\n",
    "axs[0].set_xticks(range(len(n_pulse_strength)))\n",
    "axs[0].set_xticklabels(n_pulse_strength)\n",
    "axs[0].set_yticks(range(len(n_sensornoise)))\n",
    "axs[0].set_yticklabels(n_sensornoise)\n",
    "axs[0].set_ylabel('Sensornoise covariance',fontsize = 12)\n",
    "axs[0].set_title('SCN controller error')\n",
    "\n",
    "legend=[]\n",
    "im=axs[1].imshow(ideal_avg_pos_error,vmax=1.65)\n",
    "axs[1].set_xticks(range(len(n_pulse_strength)))\n",
    "axs[1].set_xticklabels(n_pulse_strength)\n",
    "axs[1].set_yticks(range(len(n_sensornoise)))\n",
    "axs[1].set_yticklabels(n_sensornoise)\n",
    "axs[1].set_xlabel('Force pulse strength ($N$)',fontsize = 12)\n",
    "axs[1].set_ylabel('Sensornoise covariance',fontsize = 12)\n",
    "axs[1].set_title('Idealized controller error')\n",
    "\n",
    "colorbar = plt.colorbar(im,ax=axs[0],location=\"top\",orientation=\"horizontal\",pad=0.12)\n",
    "colorbar.ax.set_title(\"$<x-z_x>$\",fontsize=12)\n",
    "\n",
    "plt.savefig('./img/fig4a.png', facecolor='white', transparent=False, dpi=300, bbox_inches='tight')\n",
    "plt.show()"
   ]
  },
  {
   "attachments": {},
   "cell_type": "markdown",
   "metadata": {},
   "source": [
    "Next, the supplementary plots which show the effect of different parameter values on the SCN."
   ]
  },
  {
   "cell_type": "code",
   "execution_count": 7,
   "metadata": {},
   "outputs": [
    {
     "data": {
      "image/png": "[encoded data removed]",
      "text/plain": [
       "<Figure size 432x576 with 8 Axes>"
      ]
     },
     "metadata": {
      "needs_background": "light"
     },
     "output_type": "display_data"
    }
   ],
   "source": [
    "fig, axs = plt.subplots(8,1, sharex=True, squeeze=True, gridspec_kw = {'hspace':0.1,'height_ratios':[1,1,0.3,1,1,0.3,1,1]})\n",
    "fig.set_figheight(8)\n",
    "fig.set_figwidth(6)\n",
    "legend_fontsize=10\n",
    "\n",
    "#Forward Euler parameters\n",
    "time = 5 #Total simulation time in seconds\n",
    "dt = 0.0001 #Length of a single timestep\n",
    "\n",
    "axs[2].set_visible(False)\n",
    "axs[5].set_visible(False)\n",
    "\n",
    "legend=[]\n",
    "axs[0].plot(np.arange(0,time+dt,dt),error_list[0][1][10][0],color='#0070C0',alpha=0.7)\n",
    "legend.append(\"Observation\")\n",
    "axs[0].plot(np.arange(0,time+dt,dt),error_list[0][1][6][0],color='#00B050')\n",
    "legend.append(\"SCN Controller\")\n",
    "axs[0].plot(np.arange(0,time+dt,dt),error_list[0][1][9][0],linestyle='dashed',color='#E3000B')\n",
    "legend.append(\"Target\")\n",
    "axs[0].legend(legend,fontsize=legend_fontsize,loc='upper left')\n",
    "axs[0].set_ylabel('$x$ $(m)$',fontsize = 12)\n",
    "axs[0].yaxis.tick_right()\n",
    "axs[0].yaxis.set_label_position(\"right\")\n",
    "axs[0].yaxis.set_label_position(\"right\")\n",
    "axs[0].set_ylim(-5, 8)\n",
    "\n",
    "legend=[]\n",
    "axs[1].plot(np.arange(0,time+dt,dt),error_list[0][1][8][0],color='#394b94')\n",
    "legend.append(\"External Force\")\n",
    "axs[1].legend(legend,fontsize=legend_fontsize,loc='upper left')\n",
    "axs[1].set_ylabel('$u$ $(N)$',fontsize = 12)\n",
    "axs[1].yaxis.tick_right()\n",
    "axs[1].yaxis.set_label_position(\"right\")\n",
    "axs[1].set_ylim(-50, 950)\n",
    "\n",
    "\n",
    "legend=[]\n",
    "axs[3].plot(np.arange(0,time+dt,dt),error_list[2][5][10][0],color='#0070C0',alpha=0.7)\n",
    "legend.append(\"Observation\")\n",
    "axs[3].plot(np.arange(0,time+dt,dt),error_list[2][5][6][0],color='#00B050')\n",
    "legend.append(\"SCN Controller\")\n",
    "axs[3].plot(np.arange(0,time+dt,dt),error_list[2][5][9][0],linestyle='dashed',color='#E3000B')\n",
    "legend.append(\"Target\")\n",
    "axs[3].set_ylabel('$x$ $(m)$',fontsize = 12)\n",
    "axs[3].yaxis.tick_right()\n",
    "axs[3].yaxis.set_label_position(\"right\")\n",
    "axs[3].set_ylim(-5, 8)\n",
    "\n",
    "legend=[]\n",
    "axs[4].plot(np.arange(0,time+dt,dt),error_list[2][5][8][0],color='#394b94')\n",
    "legend.append(\"External force\")\n",
    "axs[4].set_ylabel('$u$ $(N)$',fontsize = 12)\n",
    "axs[4].yaxis.tick_right()\n",
    "axs[4].yaxis.set_label_position(\"right\")\n",
    "axs[4].set_ylim(-50, 950)\n",
    "\n",
    "\n",
    "legend=[]\n",
    "axs[6].plot(np.arange(0,time+dt,dt),error_list[4][9][10][0],color='#0070C0',alpha=0.7)\n",
    "legend.append(\"Observation\")\n",
    "axs[6].plot(np.arange(0,time+dt,dt),error_list[4][9][6][0],color='#00B050')\n",
    "legend.append(\"SCN Controller\")\n",
    "axs[6].plot(np.arange(0,time+dt,dt),error_list[4][9][9][0],linestyle='dashed',color='#E3000B')\n",
    "legend.append(\"Target\")\n",
    "axs[6].set_ylabel('$x$ $(m)$',fontsize = 12)\n",
    "axs[6].yaxis.tick_right()\n",
    "axs[6].yaxis.set_label_position(\"right\")\n",
    "axs[6].set_ylim(-5, 8)\n",
    "\n",
    "legend=[]\n",
    "axs[7].plot(np.arange(0,time+dt,dt),error_list[4][9][8][0],color='#394b94')\n",
    "legend.append(\"External force\")\n",
    "axs[7].set_ylabel('$u$ $(N)$',fontsize = 12)\n",
    "axs[7].set_xlabel('time ($s$)',fontsize = 12)\n",
    "axs[7].yaxis.tick_right()\n",
    "axs[7].yaxis.set_label_position(\"right\")\n",
    "axs[7].set_ylim(-50, 950)\n",
    "\n",
    "plt.savefig('./img/fig4b.png', facecolor='white', transparent=False, dpi=300, bbox_inches='tight')\n",
    "plt.show()"
   ]
  }
 ],
 "metadata": {
  "kernelspec": {
   "display_name": "thesis",
   "language": "python",
   "name": "python3"
  },
  "language_info": {
   "codemirror_mode": {
    "name": "ipython",
    "version": 3
   },
   "file_extension": ".py",
   "mimetype": "text/x-python",
   "name": "python",
   "nbconvert_exporter": "python",
   "pygments_lexer": "ipython3",
   "version": "3.8.11"
  },
  "orig_nbformat": 4,
  "vscode": {
   "interpreter": {
    "hash": "3a7c7a918066a4bbdc5024e29106630a6552d054996e2460e4da44857733d740"
   }
  }
 },
 "nbformat": 4,
 "nbformat_minor": 2
}
