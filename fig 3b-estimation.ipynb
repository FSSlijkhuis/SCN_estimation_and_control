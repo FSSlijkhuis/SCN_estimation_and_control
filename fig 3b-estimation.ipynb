{
 "cells": [
  {
   "attachments": {},
   "cell_type": "markdown",
   "metadata": {},
   "source": [
    "# Figure 3b: Estimation\n",
    "In this Notebook, we shall create a plot showing the estimation performed through a Spike Coding Network (SCN). The plot shows the estimated states of the SCN Kalman filter, as well as the actual Spring-Mass-Damper (SMD) dynamical system which the SCN estimator is estimating. The work in this notebook is carried out for \"Closed-form control with spike coding networks\" by F.S. Slijkhuis, S.W. Keemink and P. Lanillos (https://doi.org/10.48550/arXiv.2212.12887)."
   ]
  },
  {
   "attachments": {},
   "cell_type": "markdown",
   "metadata": {},
   "source": [
    "## Imports\n",
    "Nothing too special here, we shall use Numpy for matrices and Matplotlib for plotting. The Python-files initialization.py and simulation.py contain helper functions which will prevent clutter in this notebook. Please refer to the files themselves to learn more about the functions within them."
   ]
  },
  {
   "cell_type": "code",
   "execution_count": 2,
   "metadata": {},
   "outputs": [],
   "source": [
    "import numpy as np #Numpy for matrix calculations\n",
    "import matplotlib.pyplot as plt #Matplotlib for plotting\n",
    "import initialization, simulation #Helper functions for initialization and simulation are located in these two Python files. Please see the files themselves for more details."
   ]
  },
  {
   "attachments": {},
   "cell_type": "markdown",
   "metadata": {},
   "source": [
    "## Initialization\n",
    "For initialization, we shall define parameters relevant to the simulations in this notebook. As mentioned earlier, we are simulating both an SCN Kalman filter and an Spring-Mass-Damper system. Both will be simulated using Forward Euler. But first, we must define the relevant parameters."
   ]
  },
  {
   "cell_type": "code",
   "execution_count": null,
   "metadata": {},
   "outputs": [],
   "source": [
    "#Forward Euler parameters\n",
    "time = 50 #Total simulation time in seconds\n",
    "dt = 0.001 #Length of a single timestep\n",
    "times,Nt = initialization.FE_init(time,dt) #times is a list of timesteps which we will loop over, Nt is the total number of timesteps (length of times)\n",
    "\n",
    "#Spring-Mass-Damper System parameters\n",
    "m=3 #Mass (in kg)\n",
    "k=5 #Spring constant (in N/m)\n",
    "c=0.5 #Constant of proportionality (dampening, in Ns/m = kg/s)\n",
    "A,B = initialization.SMD_init(m,k,c) #A and B are the system matrix and input matrix in state-space representation (according to Ax+Bu)\n",
    "x0 = np.array([5, 0]) #Initial state of the SMD system.\n",
    "\n",
    "#Other system parameters\n",
    "C=np.array([[1,0],\n",
    "           [0,0]]) #Initialization of the C matrix (because y=Cx+noise)\n",
    "Vn_cov = 0.001 #Sensor noise covariance (y=Cx+noise)\n",
    "Vd_cov = 0.001 #Disturbance noise covariance (noise on the SMD)\n",
    "\n",
    "#SCN Estimator parameters\n",
    "network_size=20 #The number of neurons in the SCN\n",
    "signal_dimensions=2 #The dimensions of the signal, K (is equal to the size of x0, but can be set manually)\n",
    "lam=0.1 #The leakage constant of the network, lambda\n",
    "Vv_sigma = 0.000001 #Voltage noise sigma; noise on the voltage"
   ]
  }
 ],
 "metadata": {
  "kernelspec": {
   "display_name": "thesis",
   "language": "python",
   "name": "python3"
  },
  "language_info": {
   "codemirror_mode": {
    "name": "ipython",
    "version": 3
   },
   "file_extension": ".py",
   "mimetype": "text/x-python",
   "name": "python",
   "nbconvert_exporter": "python",
   "pygments_lexer": "ipython3",
   "version": "3.8.11"
  },
  "orig_nbformat": 4,
  "vscode": {
   "interpreter": {
    "hash": "3a7c7a918066a4bbdc5024e29106630a6552d054996e2460e4da44857733d740"
   }
  }
 },
 "nbformat": 4,
 "nbformat_minor": 2
}
