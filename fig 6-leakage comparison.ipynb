{
 "cells": [
  {
   "attachments": {},
   "cell_type": "markdown",
   "metadata": {},
   "source": [
    "# Figure 6: leakage comparison\n",
    "In this Notebook, we shall create a plot showing control performed through a Spike Coding Network (SCN). The plot shows two Spring-Mass-Damper (SMD) systems, of which one is controlled through an SCN estimator and controller, and the other through an idealized LQG controller. Thi notebook serves as a comparison between different leakage constant settings, contributing to decreased spikig. Additionally, the size of the bounding box (the bounding box factor) is decreased, such that spiking is very sparse in general. The work in this notebook is carried out for \"Closed-form control with spike coding networks\" by F.S. Slijkhuis, S.W. Keemink and P. Lanillos (https://doi.org/10.48550/arXiv.2212.12887)."
   ]
  },
  {
   "attachments": {},
   "cell_type": "markdown",
   "metadata": {},
   "source": [
    "## Imports\n",
    "Nothing too special here, we shall use Numpy for matrices and Matplotlib for plotting. The Python-files initialization.py and simulation.py contain helper functions which will prevent clutter in this notebook. Please refer to the files themselves to learn more about the functions within them."
   ]
  },
  {
   "cell_type": "code",
   "execution_count": 148,
   "metadata": {},
   "outputs": [],
   "source": [
    "import numpy as np #Numpy for matrix calculations\n",
    "import matplotlib.pyplot as plt #Matplotlib for plotting\n",
    "import initialization, simulation #Helper functions for initialization and simulation are located in these two Python files. Please see the files themselves for more details."
   ]
  },
  {
   "attachments": {},
   "cell_type": "markdown",
   "metadata": {},
   "source": [
    "## Initialization\n",
    "For initialization, we shall define parameters relevant to the simulations in this notebook. As mentioned earlier, we are simulating two SMD systems: one controlled using an SCN controller and the other through an idealized LQG. Both the controllers and SMD systems will be simulated using Forward Euler. But first, we must define the relevant parameters."
   ]
  },
  {
   "cell_type": "code",
   "execution_count": 149,
   "metadata": {},
   "outputs": [],
   "source": [
    "#Forward Euler parameters\n",
    "time = 10 #Total simulation time in seconds\n",
    "dt = 0.001 #Length of a single timestep\n",
    "\n",
    "#Spring-Mass-Damper System(s) parameters\n",
    "m = 20 #Mass (in kg)\n",
    "k = 6 #Spring constant (in N/m)\n",
    "c = 2 #Constant of proportionality (dampening, in Ns/m = kg/s)\n",
    "x0 = np.array([0, 0]) #Initial state of the SMD system.\n",
    "\n",
    "#Other system parameters\n",
    "C = np.array([[1,0],\n",
    "              [0,0]]) #Initialization of the C matrix (because y=Cx+noise)\n",
    "Vn_cov = 0.001 #Sensor noise covariance (y=Cx+noise)\n",
    "Vd_cov = 0.001 #Disturbance noise covariance (noise on the SMD)\n",
    "\n",
    "#SCN Controller parameters\n",
    "network_size = 50 #The number of neurons in the SCN\n",
    "signal_dimensions = 4 #The dimensions of the signal, which is 4 here because the target state is also encoded into the network\n",
    "lam = 0 #The leakage constant of the network, lambda\n",
    "Vv_sigma = 0.000001 #Voltage noise sigma; noise on the voltage\n",
    "\n",
    "#Control parameters\n",
    "Q = np.array([[10,0],\n",
    "              [0,1]]) #The Q-matrix, cost of deviations from the state\n",
    "R = 0.001 #Cost of actuation"
   ]
  },
  {
   "attachments": {},
   "cell_type": "markdown",
   "metadata": {},
   "source": [
    "Next, we shall run some of the code from initialization.py, required to initialize some of the parameters and matrices used in the simulation loop."
   ]
  },
  {
   "cell_type": "code",
   "execution_count": 150,
   "metadata": {},
   "outputs": [
    {
     "name": "stdout",
     "output_type": "stream",
     "text": [
      "Rank of controllability-matrix: 2\n"
     ]
    }
   ],
   "source": [
    "#Forward Euler simulation\n",
    "times,Nt = initialization.FE_init(time,dt) #times is a list of timesteps which we will loop over, Nt is the total number of timesteps (length of times)\n",
    "\n",
    "#SMD System A and B matrices\n",
    "A,B = initialization.SMD_init(m,k,c) #A and B are the system matrix and input matrix in state-space representation (according to Ax+Bu)\n",
    "\n",
    "#Initialization of the Kalman filter gain matrix to be used inside of the SCN estimator and idealized Kalman filter\n",
    "Kf = initialization.Kalman_init(A,C,Vn_cov,Vd_cov) #From the A and C matrices and noise covariances, we can calculate the Kalman filter gain matrix\n",
    "\n",
    "#Initialization of the LQR gain matrix to be used inside of the SCN controller and idealized LQG\n",
    "Kc = initialization.Control_init(A,B,Q,R)\n",
    "\n",
    "#Initialization of the state-matrices, containing the states of the simulated SMD systems over time\n",
    "X = initialization.X_init(x0,Nt) #Requires x0 as the first state of the simulated SMD system, and Nt for the matrix dimensions\n",
    "X_2 = initialization.X_init(x0,Nt) #We run two SMD systems with different controllers, so we need two state matrices\n",
    "\n",
    "#Initializaton of the SCN controller, given parameters, we calculate D, T, V, s, r and all of the connectivity\n",
    "D,T,V,s,r,O_f,O_s,O_c,F_c,O_k,F_k = initialization.ControllerSCN_init(signal_dimensions,Nt,A,B,C,Kf,Kc,network_size,lam,bounding_box_factor=1)\n",
    "\n",
    "#Target state parameters\n",
    "x0_des = np.full([Nt+1],0) #Desired x0, position.\n",
    "x1_des = np.full([Nt+1],0) #Desired x1, velocity.\n",
    "\n",
    "#Change desired state over time\n",
    "x0_des[int(Nt/3):int(Nt/3)*2] = 5\n",
    "x0_des[int(Nt/3)*2:int(Nt/3)*3] = 0\n",
    "\n",
    "x_des = np.array([x0_des,x1_des]) #Desired states over time.\n",
    "\n",
    "\n",
    "#Error matrices, will be updated during the simulation\n",
    "error_ideal=np.zeros([len(x0),Nt+1]) #Error between idealzied LQG and SMD system\n",
    "error_scn=np.zeros([len(x0),Nt+1]) #Error between SCN controller and SMD system\n",
    "\n",
    "#Initialization of other matrices used in simulation, U, Y, X_hat (state matrix of SCN estimator), X_hat_fe (state matrix of idealized Kalman filter), uDIST and uNOISE (noise matrices)\n",
    "U,Y,U_2,Y_2,X_hat,X_hat_fe,uDIST,uNOISE,Dx,error_scn,error_ideal = initialization.ControlLoop_init(X,X_2,error_scn,error_ideal,x_des,dt,A,B,C,x0,Nt,Vd_cov,Vn_cov)"
   ]
  },
  {
   "attachments": {},
   "cell_type": "markdown",
   "metadata": {},
   "source": [
    "## Simulation\n",
    "Now that we have defined all of the parameters we need, we can define how to run the simulation. For individual SMD and SCN steps, we shall make use of simulation.py."
   ]
  },
  {
   "cell_type": "code",
   "execution_count": 151,
   "metadata": {},
   "outputs": [],
   "source": [
    "def run_simulation(Nt,X,X_2,A,B,U,U_2,uDIST,dt,Y,Y_2,C,uNOISE,r,s,V,D,T,lam,O_f,O_s,O_c,F_c,O_k,F_k,Vv_sigma,X_hat,X_hat_fe,Kf,Kc,x_des,error_scn,error_ideal,signal_dimensions):\n",
    "    \n",
    "    #Looping over the entire range of Nt, we have all the timesteps in our simulation\n",
    "    for t in range(Nt):\n",
    "        #First, simulate one step of both simulated SMD system\n",
    "        X[:,t+1] = simulation.run_DSlinearized_step(X[:,t],A,B,U[:,t],uDIST[:,t],dt)\n",
    "        X_2[:,t+1] = simulation.run_DSlinearized_step(X_2[:,t],A,B,U_2[:,t],uDIST[:,t],dt)\n",
    "        \n",
    "        #Update the error matrices\n",
    "        error_scn[:,t+1] = np.abs(X[:,t+1]-x_des[:,t+1])\n",
    "        error_ideal[:,t+1] = np.abs(X_2[:,t+1]-x_des[:,t+1])\n",
    "\n",
    "        #Our controllers only have access to Y, which is the partially observable state plus noise\n",
    "        Y[:,t+1] = C@X[:,t+1] + uNOISE[:,t+1]\n",
    "        Y_2[:,t+1] = C@X_2[:,t+1] + uNOISE[:,t+1]\n",
    "\n",
    "        #Simulate a single step of the SCN controller\n",
    "        r[:,t+1],s[:,t+1],V[:,t+1],U[:,t+1] = simulation.run_SCNcontrol_step(Y[:,t],x_des[:,t],Dx[:,t],r[:,t],s[:,t],V[:,t],D,T,lam,Kc,O_f,O_s,O_c,F_c,O_k,F_k,B,C,t,dt,Vv_sigma)\n",
    "        \n",
    "        #Run a step of the idealized controller which we compare the SCN to\n",
    "        X_hat_fe[:,t+1] = simulation.run_Kfidealized_step(X_hat_fe[:,t],A,B,U_2[:,t],Kf,Y_2[:,t],C,dt)\n",
    "\n",
    "        #U_2 is the control signal of the idealized controller\n",
    "        U_2[:,t+1] = -Kc@(X_hat_fe[:,t+1]-x_des[:,t])\n",
    "    \n",
    "    return X,X_2,error_scn,error_ideal,s"
   ]
  },
  {
   "attachments": {},
   "cell_type": "markdown",
   "metadata": {},
   "source": [
    "Next, we run a single simulation for plotting."
   ]
  },
  {
   "cell_type": "code",
   "execution_count": 152,
   "metadata": {},
   "outputs": [],
   "source": [
    "X_SCN,X_ideal,error_scn,error_ideal,s = run_simulation(Nt,X,X_2,A,B,U,U_2,uDIST,dt,Y,Y_2,C,uNOISE,r,s,V,D,T,lam,O_f,O_s,O_c,F_c,O_k,F_k,Vv_sigma,X_hat,X_hat_fe,Kf,Kc,x_des,error_scn,error_ideal,signal_dimensions)"
   ]
  },
  {
   "attachments": {},
   "cell_type": "markdown",
   "metadata": {},
   "source": [
    "## Plotting\n",
    "Now that we have obtained our filled state matrices, we can plot everything."
   ]
  },
  {
   "cell_type": "code",
   "execution_count": 155,
   "metadata": {},
   "outputs": [
    {
     "data": {
      "text/plain": [
       "<Figure size 432x288 with 0 Axes>"
      ]
     },
     "metadata": {},
     "output_type": "display_data"
    },
    {
     "data": {
      "image/png": "[encoded data removed]",
      "text/plain": [
       "<Figure size 576x288 with 3 Axes>"
      ]
     },
     "metadata": {
      "needs_background": "light"
     },
     "output_type": "display_data"
    }
   ],
   "source": [
    "fig = plt.figure()\n",
    "fig, axs = plt.subplots(3,1, sharex=True, squeeze=True, gridspec_kw = {'hspace':0.1,'height_ratios':[0.5,0.5,1]})\n",
    "fig.set_figheight(4)\n",
    "fig.set_figwidth(8)\n",
    "legend_fontsize=12\n",
    "\n",
    "legend=[]\n",
    "axs[0].plot(np.arange(0,time+dt,dt),X_ideal[0],color='#E3000B',linewidth=3)\n",
    "legend.append(\"Idealized LQR\")\n",
    "axs[0].plot(np.arange(0,time+dt,dt),X_SCN[0],color='#00B050')\n",
    "legend.append(\"SCN Controller\")\n",
    "axs[0].plot(np.arange(0,time+dt,dt),x_des[0],linestyle='dashed',c=\"#0070C0\")\n",
    "legend.append(\"Target\")\n",
    "\n",
    "legend=[]\n",
    "axs[1].plot(np.arange(0,time+dt,dt),X_ideal[1],color='#E3000B',linewidth=3)\n",
    "legend.append(\"Idealized LQR\")\n",
    "axs[1].plot(np.arange(0,time+dt,dt),X_SCN[1],color='#00B050')\n",
    "legend.append(\"SCN Controller\")\n",
    "axs[1].plot(np.arange(0,time+dt,dt),x_des[1],linestyle='dashed',c=\"#0070C0\")\n",
    "legend.append(\"Target\")\n",
    "axs[1].legend(legend,fontsize=legend_fontsize,loc='upper left',bbox_to_anchor=(0,1.6))\n",
    "    \n",
    "axs[0].set_ylabel('$x$ $(m)$',fontsize = 12)\n",
    "axs[1].set_ylabel('$v$ $(m/s)$',fontsize = 12)\n",
    "\n",
    "axs[0].set_ylim([-2,7])\n",
    "axs[1].set_ylim([-6,6])\n",
    "\n",
    "#We use a scatterplot for the spike trains:\n",
    "axs[2].scatter(np.nonzero(s)[1]/1000,np.nonzero(s)[0],marker=\".\",s=0.1,color='black')\n",
    "axs[2].set_xlabel('time ($s$)',fontsize = 12)\n",
    "axs[2].set_ylabel('neuron nr.',fontsize = 12)\n",
    "\n",
    "plt.savefig('./img/fig6.png', facecolor='white', transparent=False, dpi=300, bbox_inches='tight')\n",
    "plt.show()"
   ]
  },
  {
   "attachments": {},
   "cell_type": "markdown",
   "metadata": {},
   "source": [
    "We can count the number of total spikes in the simulation."
   ]
  },
  {
   "cell_type": "code",
   "execution_count": 156,
   "metadata": {},
   "outputs": [
    {
     "name": "stdout",
     "output_type": "stream",
     "text": [
      "The total number of spikes in the simulation: 875\n",
      "The average number of spikes per second: 87\n",
      "The total number of spikes in control period: 554\n",
      "The average number of spikes per second in control period: 55\n"
     ]
    }
   ],
   "source": [
    "print(\"The total number of spikes in the simulation: %d\" % np.unique(s, return_counts=True)[1][1])\n",
    "print(\"The average number of spikes per second: %d\" % (np.unique(s, return_counts=True)[1][1] / time))\n",
    "\n",
    "print(\"The total number of spikes in control period: %d\" % np.unique(s[:,int(Nt/3):int(Nt/3)*2], return_counts=True)[1][1])\n",
    "print(\"The average number of spikes per second in control period: %d\" % (np.unique(s[:,int(Nt/3):int(Nt/3)*2], return_counts=True)[1][1] / time))"
   ]
  },
  {
   "cell_type": "code",
   "execution_count": null,
   "metadata": {},
   "outputs": [],
   "source": []
  }
 ],
 "metadata": {
  "kernelspec": {
   "display_name": "thesis",
   "language": "python",
   "name": "python3"
  },
  "language_info": {
   "codemirror_mode": {
    "name": "ipython",
    "version": 3
   },
   "file_extension": ".py",
   "mimetype": "text/x-python",
   "name": "python",
   "nbconvert_exporter": "python",
   "pygments_lexer": "ipython3",
   "version": "3.8.11"
  },
  "orig_nbformat": 4,
  "vscode": {
   "interpreter": {
    "hash": "3a7c7a918066a4bbdc5024e29106630a6552d054996e2460e4da44857733d740"
   }
  }
 },
 "nbformat": 4,
 "nbformat_minor": 2
}
